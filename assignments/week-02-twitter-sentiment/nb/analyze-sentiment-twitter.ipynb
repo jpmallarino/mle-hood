{
 "cells": [
  {
   "cell_type": "markdown",
   "id": "24d097db",
   "metadata": {},
   "source": [
    "<p align = \"center\" draggable=”false” ><img src=\"https://user-images.githubusercontent.com/37101144/161836199-fdb0219d-0361-4988-bf26-48b0fad160a3.png\"\n",
    "     width=\"200px\"\n",
    "     height=\"auto\"/>\n",
    "</p>\n",
    "\n",
    "# <h1 align=\"center\" id=\"heading\">Sentiment Analysis of Twitter Data</h1>\n",
    "\n",
    "<hr>\n",
    "\n",
    "\n",
    "### ☑️ Objectives\n",
    "At the end of this session, you will be able to:\n",
    "- [ ] Understand how to find and run pre-trained models\n",
    "- [ ] Evaluate results from pre-trained models\n",
    "- [ ] Run a pre-trained model using real twitter data\n",
    "\n",
    "\n",
    "### 🔨 Pre-Assignment\n",
    "\n",
    "Create a new Conda environment for sentiment anaylsis (sa)\n",
    "\n",
    "```bash\n",
    "  conda create -n sa python=3.8 jupyter -y\n",
    "```\n",
    "\n",
    "Activate your new environment\n",
    "```bash\n",
    "  conda activate sa\n",
    "```\n",
    "\n",
    "Open the jupyter-notebook\n",
    "```bash\n",
    "  jupyter-notebook\n",
    "```\n",
    "\n",
    "Navigate through the repo in the notebook to find `imports.ipynb` for this week and open it.\n",
    "\n",
    "Run all of the cells in the notebook.\n",
    "\n",
    "\n",
    "### Background\n",
    "Please review the weekly narrative [here](https://www.notion.so/Week-2-Data-Centric-AI-the-AI-Product-Lifecycle-72a84c1517b44fcbb3e6bd11d47477dc#2b73937612bb46559f5b91dc2bf55e7d)\n",
    "\n",
    "\n"
   ]
  },
  {
   "cell_type": "markdown",
   "id": "b3934e6e",
   "metadata": {},
   "source": [
    "<hr>"
   ]
  },
  {
   "cell_type": "markdown",
   "id": "d1a5ab14",
   "metadata": {},
   "source": [
    "## 🚀 Let's Get Started"
   ]
  },
  {
   "cell_type": "markdown",
   "id": "bea542cb",
   "metadata": {},
   "source": [
    "Let's first start with our imports"
   ]
  },
  {
   "cell_type": "code",
   "execution_count": 109,
   "id": "a9b9623e",
   "metadata": {},
   "outputs": [
    {
     "name": "stdout",
     "output_type": "stream",
     "text": [
      "Requirement already satisfied: transformers in /Users/jmallarino/CONDA_ENVS/4thbrain/lib/python3.10/site-packages (4.25.1)\n",
      "Requirement already satisfied: tensorflow in /Users/jmallarino/CONDA_ENVS/4thbrain/lib/python3.10/site-packages (2.11.0)\n",
      "Requirement already satisfied: torch in /Users/jmallarino/CONDA_ENVS/4thbrain/lib/python3.10/site-packages (1.13.0)\n",
      "Requirement already satisfied: pandas in /Users/jmallarino/CONDA_ENVS/4thbrain/lib/python3.10/site-packages (1.5.2)\n",
      "Requirement already satisfied: numpy in /Users/jmallarino/CONDA_ENVS/4thbrain/lib/python3.10/site-packages (1.23.5)\n",
      "Requirement already satisfied: matplotlib in /Users/jmallarino/CONDA_ENVS/4thbrain/lib/python3.10/site-packages (3.6.2)\n",
      "Requirement already satisfied: seaborn in /Users/jmallarino/CONDA_ENVS/4thbrain/lib/python3.10/site-packages (0.12.1)\n",
      "Requirement already satisfied: pyyaml>=5.1 in /Users/jmallarino/CONDA_ENVS/4thbrain/lib/python3.10/site-packages (from transformers) (6.0)\n",
      "Requirement already satisfied: filelock in /Users/jmallarino/CONDA_ENVS/4thbrain/lib/python3.10/site-packages (from transformers) (3.8.2)\n",
      "Requirement already satisfied: requests in /Users/jmallarino/CONDA_ENVS/4thbrain/lib/python3.10/site-packages (from transformers) (2.28.1)\n",
      "Requirement already satisfied: tokenizers!=0.11.3,<0.14,>=0.11.1 in /Users/jmallarino/CONDA_ENVS/4thbrain/lib/python3.10/site-packages (from transformers) (0.13.2)\n",
      "Requirement already satisfied: tqdm>=4.27 in /Users/jmallarino/CONDA_ENVS/4thbrain/lib/python3.10/site-packages (from transformers) (4.64.1)\n",
      "Requirement already satisfied: huggingface-hub<1.0,>=0.10.0 in /Users/jmallarino/CONDA_ENVS/4thbrain/lib/python3.10/site-packages (from transformers) (0.11.1)\n",
      "Requirement already satisfied: packaging>=20.0 in /Users/jmallarino/CONDA_ENVS/4thbrain/lib/python3.10/site-packages (from transformers) (21.3)\n",
      "Requirement already satisfied: regex!=2019.12.17 in /Users/jmallarino/CONDA_ENVS/4thbrain/lib/python3.10/site-packages (from transformers) (2022.10.31)\n",
      "Requirement already satisfied: typing-extensions>=3.6.6 in /Users/jmallarino/CONDA_ENVS/4thbrain/lib/python3.10/site-packages (from tensorflow) (4.4.0)\n",
      "Requirement already satisfied: google-pasta>=0.1.1 in /Users/jmallarino/CONDA_ENVS/4thbrain/lib/python3.10/site-packages (from tensorflow) (0.2.0)\n",
      "Requirement already satisfied: protobuf<3.20,>=3.9.2 in /Users/jmallarino/CONDA_ENVS/4thbrain/lib/python3.10/site-packages (from tensorflow) (3.19.6)\n",
      "Requirement already satisfied: grpcio<2.0,>=1.24.3 in /Users/jmallarino/CONDA_ENVS/4thbrain/lib/python3.10/site-packages (from tensorflow) (1.51.1)\n",
      "Requirement already satisfied: tensorboard<2.12,>=2.11 in /Users/jmallarino/CONDA_ENVS/4thbrain/lib/python3.10/site-packages (from tensorflow) (2.11.0)\n",
      "Requirement already satisfied: gast<=0.4.0,>=0.2.1 in /Users/jmallarino/CONDA_ENVS/4thbrain/lib/python3.10/site-packages (from tensorflow) (0.4.0)\n",
      "Requirement already satisfied: h5py>=2.9.0 in /Users/jmallarino/CONDA_ENVS/4thbrain/lib/python3.10/site-packages (from tensorflow) (3.7.0)\n",
      "Requirement already satisfied: libclang>=13.0.0 in /Users/jmallarino/CONDA_ENVS/4thbrain/lib/python3.10/site-packages (from tensorflow) (14.0.6)\n",
      "Requirement already satisfied: opt-einsum>=2.3.2 in /Users/jmallarino/CONDA_ENVS/4thbrain/lib/python3.10/site-packages (from tensorflow) (3.3.0)\n",
      "Requirement already satisfied: flatbuffers>=2.0 in /Users/jmallarino/CONDA_ENVS/4thbrain/lib/python3.10/site-packages (from tensorflow) (22.12.6)\n",
      "Requirement already satisfied: six>=1.12.0 in /Users/jmallarino/CONDA_ENVS/4thbrain/lib/python3.10/site-packages (from tensorflow) (1.16.0)\n",
      "Requirement already satisfied: wrapt>=1.11.0 in /Users/jmallarino/CONDA_ENVS/4thbrain/lib/python3.10/site-packages (from tensorflow) (1.14.1)\n",
      "Requirement already satisfied: astunparse>=1.6.0 in /Users/jmallarino/CONDA_ENVS/4thbrain/lib/python3.10/site-packages (from tensorflow) (1.6.3)\n",
      "Requirement already satisfied: tensorflow-estimator<2.12,>=2.11.0 in /Users/jmallarino/CONDA_ENVS/4thbrain/lib/python3.10/site-packages (from tensorflow) (2.11.0)\n",
      "Requirement already satisfied: setuptools in /Users/jmallarino/CONDA_ENVS/4thbrain/lib/python3.10/site-packages (from tensorflow) (65.5.1)\n",
      "Requirement already satisfied: termcolor>=1.1.0 in /Users/jmallarino/CONDA_ENVS/4thbrain/lib/python3.10/site-packages (from tensorflow) (2.1.1)\n",
      "Requirement already satisfied: absl-py>=1.0.0 in /Users/jmallarino/CONDA_ENVS/4thbrain/lib/python3.10/site-packages (from tensorflow) (1.3.0)\n",
      "Requirement already satisfied: tensorflow-io-gcs-filesystem>=0.23.1 in /Users/jmallarino/CONDA_ENVS/4thbrain/lib/python3.10/site-packages (from tensorflow) (0.28.0)\n",
      "Requirement already satisfied: keras<2.12,>=2.11.0 in /Users/jmallarino/CONDA_ENVS/4thbrain/lib/python3.10/site-packages (from tensorflow) (2.11.0)\n",
      "Requirement already satisfied: python-dateutil>=2.8.1 in /Users/jmallarino/CONDA_ENVS/4thbrain/lib/python3.10/site-packages (from pandas) (2.8.2)\n",
      "Requirement already satisfied: pytz>=2020.1 in /Users/jmallarino/CONDA_ENVS/4thbrain/lib/python3.10/site-packages (from pandas) (2022.6)\n",
      "Requirement already satisfied: pyparsing>=2.2.1 in /Users/jmallarino/CONDA_ENVS/4thbrain/lib/python3.10/site-packages (from matplotlib) (3.0.9)\n",
      "Requirement already satisfied: pillow>=6.2.0 in /Users/jmallarino/CONDA_ENVS/4thbrain/lib/python3.10/site-packages (from matplotlib) (9.3.0)\n",
      "Requirement already satisfied: cycler>=0.10 in /Users/jmallarino/CONDA_ENVS/4thbrain/lib/python3.10/site-packages (from matplotlib) (0.11.0)\n",
      "Requirement already satisfied: kiwisolver>=1.0.1 in /Users/jmallarino/CONDA_ENVS/4thbrain/lib/python3.10/site-packages (from matplotlib) (1.4.4)\n",
      "Requirement already satisfied: fonttools>=4.22.0 in /Users/jmallarino/CONDA_ENVS/4thbrain/lib/python3.10/site-packages (from matplotlib) (4.38.0)\n",
      "Requirement already satisfied: contourpy>=1.0.1 in /Users/jmallarino/CONDA_ENVS/4thbrain/lib/python3.10/site-packages (from matplotlib) (1.0.6)\n",
      "Requirement already satisfied: wheel<1.0,>=0.23.0 in /Users/jmallarino/CONDA_ENVS/4thbrain/lib/python3.10/site-packages (from astunparse>=1.6.0->tensorflow) (0.38.4)\n",
      "Requirement already satisfied: tensorboard-data-server<0.7.0,>=0.6.0 in /Users/jmallarino/CONDA_ENVS/4thbrain/lib/python3.10/site-packages (from tensorboard<2.12,>=2.11->tensorflow) (0.6.1)\n",
      "Requirement already satisfied: tensorboard-plugin-wit>=1.6.0 in /Users/jmallarino/CONDA_ENVS/4thbrain/lib/python3.10/site-packages (from tensorboard<2.12,>=2.11->tensorflow) (1.8.1)\n",
      "Requirement already satisfied: google-auth<3,>=1.6.3 in /Users/jmallarino/CONDA_ENVS/4thbrain/lib/python3.10/site-packages (from tensorboard<2.12,>=2.11->tensorflow) (2.15.0)\n",
      "Requirement already satisfied: markdown>=2.6.8 in /Users/jmallarino/CONDA_ENVS/4thbrain/lib/python3.10/site-packages (from tensorboard<2.12,>=2.11->tensorflow) (3.4.1)\n",
      "Requirement already satisfied: google-auth-oauthlib<0.5,>=0.4.1 in /Users/jmallarino/CONDA_ENVS/4thbrain/lib/python3.10/site-packages (from tensorboard<2.12,>=2.11->tensorflow) (0.4.6)\n",
      "Requirement already satisfied: werkzeug>=1.0.1 in /Users/jmallarino/CONDA_ENVS/4thbrain/lib/python3.10/site-packages (from tensorboard<2.12,>=2.11->tensorflow) (2.2.2)\n",
      "Requirement already satisfied: certifi>=2017.4.17 in /Users/jmallarino/CONDA_ENVS/4thbrain/lib/python3.10/site-packages (from requests->transformers) (2022.12.7)\n",
      "Requirement already satisfied: urllib3<1.27,>=1.21.1 in /Users/jmallarino/CONDA_ENVS/4thbrain/lib/python3.10/site-packages (from requests->transformers) (1.26.13)\n",
      "Requirement already satisfied: charset-normalizer<3,>=2 in /Users/jmallarino/CONDA_ENVS/4thbrain/lib/python3.10/site-packages (from requests->transformers) (2.1.1)\n",
      "Requirement already satisfied: idna<4,>=2.5 in /Users/jmallarino/CONDA_ENVS/4thbrain/lib/python3.10/site-packages (from requests->transformers) (3.4)\n",
      "Requirement already satisfied: cachetools<6.0,>=2.0.0 in /Users/jmallarino/CONDA_ENVS/4thbrain/lib/python3.10/site-packages (from google-auth<3,>=1.6.3->tensorboard<2.12,>=2.11->tensorflow) (5.2.0)\n",
      "Requirement already satisfied: rsa<5,>=3.1.4 in /Users/jmallarino/CONDA_ENVS/4thbrain/lib/python3.10/site-packages (from google-auth<3,>=1.6.3->tensorboard<2.12,>=2.11->tensorflow) (4.9)\n",
      "Requirement already satisfied: pyasn1-modules>=0.2.1 in /Users/jmallarino/CONDA_ENVS/4thbrain/lib/python3.10/site-packages (from google-auth<3,>=1.6.3->tensorboard<2.12,>=2.11->tensorflow) (0.2.8)\n",
      "Requirement already satisfied: requests-oauthlib>=0.7.0 in /Users/jmallarino/CONDA_ENVS/4thbrain/lib/python3.10/site-packages (from google-auth-oauthlib<0.5,>=0.4.1->tensorboard<2.12,>=2.11->tensorflow) (1.3.1)\n",
      "Requirement already satisfied: MarkupSafe>=2.1.1 in /Users/jmallarino/CONDA_ENVS/4thbrain/lib/python3.10/site-packages (from werkzeug>=1.0.1->tensorboard<2.12,>=2.11->tensorflow) (2.1.1)\n",
      "Requirement already satisfied: pyasn1<0.5.0,>=0.4.6 in /Users/jmallarino/CONDA_ENVS/4thbrain/lib/python3.10/site-packages (from pyasn1-modules>=0.2.1->google-auth<3,>=1.6.3->tensorboard<2.12,>=2.11->tensorflow) (0.4.8)\n",
      "Requirement already satisfied: oauthlib>=3.0.0 in /Users/jmallarino/CONDA_ENVS/4thbrain/lib/python3.10/site-packages (from requests-oauthlib>=0.7.0->google-auth-oauthlib<0.5,>=0.4.1->tensorboard<2.12,>=2.11->tensorflow) (3.2.2)\n"
     ]
    }
   ],
   "source": [
    "!pip install transformers tensorflow torch pandas numpy matplotlib seaborn"
   ]
  },
  {
   "cell_type": "code",
   "execution_count": 1,
   "id": "f67dcb2b",
   "metadata": {
    "scrolled": true
   },
   "outputs": [
    {
     "name": "stderr",
     "output_type": "stream",
     "text": [
      "2022-12-11 21:34:19.312712: I tensorflow/core/platform/cpu_feature_guard.cc:193] This TensorFlow binary is optimized with oneAPI Deep Neural Network Library (oneDNN) to use the following CPU instructions in performance-critical operations:  AVX2 FMA\n",
      "To enable them in other operations, rebuild TensorFlow with the appropriate compiler flags.\n"
     ]
    }
   ],
   "source": [
    "import csv # Allows us to read and write csv files\n",
    "from pprint import pprint # Make our print functions easier to read\n",
    "\n",
    "from transformers import pipeline # Hugging face pipeline to load online models"
   ]
  },
  {
   "cell_type": "markdown",
   "id": "62d4028f",
   "metadata": {},
   "source": [
    "🤗 Transformers provides thousands of pretrained models to perform tasks on different modalities such as text, vision, and audio.\n",
    "\n",
    "These models can be applied on:\n",
    "- 📝 Text, for tasks like text classification, information extraction, question answering, summarization, translation, text generation, in over 100 languages.\n",
    "\n",
    "- 🖼️ Images, for tasks like image classification, object detection, and segmentation.\n",
    "- 🗣️ Audio, for tasks like speech recognition and audio classification.\n",
    "\n",
    "This is the pipeline method in transformers that we'll be using to analyze our sentiment data. Since we're not specifying a pretrained model, the pipeline has a default sentiment analysis model called [distilbert-base-uncased-finetuned-sst-2-english](https://huggingface.co/distilbert-base-uncased-finetuned-sst-2-english)."
   ]
  },
  {
   "cell_type": "code",
   "execution_count": 2,
   "id": "9c3e6e41",
   "metadata": {},
   "outputs": [
    {
     "name": "stderr",
     "output_type": "stream",
     "text": [
      "No model was supplied, defaulted to distilbert-base-uncased-finetuned-sst-2-english and revision af0f99b (https://huggingface.co/distilbert-base-uncased-finetuned-sst-2-english).\n",
      "Using a pipeline without specifying a model name and revision in production is not recommended.\n"
     ]
    },
    {
     "data": {
      "application/vnd.jupyter.widget-view+json": {
       "model_id": "24ba68d2448f4da7bbb51469ae8c7dfa",
       "version_major": 2,
       "version_minor": 0
      },
      "text/plain": [
       "Downloading:   0%|          | 0.00/268M [00:00<?, ?B/s]"
      ]
     },
     "metadata": {},
     "output_type": "display_data"
    },
    {
     "data": {
      "application/vnd.jupyter.widget-view+json": {
       "model_id": "5695ce6f9adc4d7eb5a6be108ef631c1",
       "version_major": 2,
       "version_minor": 0
      },
      "text/plain": [
       "Downloading:   0%|          | 0.00/48.0 [00:00<?, ?B/s]"
      ]
     },
     "metadata": {},
     "output_type": "display_data"
    },
    {
     "data": {
      "application/vnd.jupyter.widget-view+json": {
       "model_id": "24dc61bc193143da954734954d815002",
       "version_major": 2,
       "version_minor": 0
      },
      "text/plain": [
       "Downloading:   0%|          | 0.00/232k [00:00<?, ?B/s]"
      ]
     },
     "metadata": {},
     "output_type": "display_data"
    }
   ],
   "source": [
    "sentiment_pipeline = pipeline(\"sentiment-analysis\")"
   ]
  },
  {
   "cell_type": "markdown",
   "id": "e30b34b2",
   "metadata": {},
   "source": [
    "In this example, we'll supply two polar sentiments and test out the model pipeline."
   ]
  },
  {
   "cell_type": "code",
   "execution_count": 3,
   "id": "de41c494",
   "metadata": {},
   "outputs": [
    {
     "data": {
      "text/plain": [
       "[{'label': 'POSITIVE', 'score': 0.9998694658279419},\n",
       " {'label': 'NEGATIVE', 'score': 0.994263231754303}]"
      ]
     },
     "execution_count": 3,
     "metadata": {},
     "output_type": "execute_result"
    }
   ],
   "source": [
    "data = [\"This is great!\", \"Oh no!\"]\n",
    "sentiment_pipeline(data)"
   ]
  },
  {
   "cell_type": "markdown",
   "id": "39d04139",
   "metadata": {},
   "source": [
    "The `label` in this case indicates the prediction for the sentiment type.\n",
    "\n",
    "The `score` indicates the confidence of the prediction (between 0 and 1).\n",
    "\n",
    "Since our sentiments were very polar, it was easier for the model to predict the sentiment type.\n",
    "\n",
    "Let's see what happens when we use a less clear example:"
   ]
  },
  {
   "cell_type": "code",
   "execution_count": 4,
   "id": "c077f881",
   "metadata": {},
   "outputs": [
    {
     "data": {
      "text/plain": [
       "[{'label': 'NEGATIVE', 'score': 0.9955562949180603},\n",
       " {'label': 'NEGATIVE', 'score': 0.9860844016075134}]"
      ]
     },
     "execution_count": 4,
     "metadata": {},
     "output_type": "execute_result"
    }
   ],
   "source": [
    "challenging_sentiments = [\"I don't think freddriq should leave, he's been helpful.\",\n",
    "                          \"Is that the lake we went to last month?\"]\n",
    "sentiment_pipeline(challenging_sentiments)"
   ]
  },
  {
   "cell_type": "markdown",
   "id": "c64b62d4",
   "metadata": {},
   "source": [
    "<hr>\n",
    "\n",
    "### Loading the Twitter Data\n",
    "\n",
    "Let's play with some twitter data. We'll be using a modified version of the [Elon Musk twitter dataset on Kaggle](https://www.kaggle.com/datasets/andradaolteanu/all-elon-musks-tweets)."
   ]
  },
  {
   "cell_type": "code",
   "execution_count": 5,
   "id": "4c1a44d0",
   "metadata": {},
   "outputs": [
    {
     "name": "stdout",
     "output_type": "stream",
     "text": [
      "['@vincent13031925 For now. Costs are decreasing rapidly.',\n",
      " 'Love this beautiful shot',\n",
      " '@agnostoxxx @CathieDWood @ARKInvest Trust the shrub',\n",
      " 'The art In Cyberpunk is incredible',\n",
      " '@itsALLrisky 🤣🤣',\n",
      " '@seinfeldguru @WholeMarsBlog Nope haha',\n",
      " '@WholeMarsBlog If you don’t say anything &amp; engage Autopilot, it will '\n",
      " 'soon guess based on time of day, taking you home or to work or to what’s on '\n",
      " 'your calendar',\n",
      " '@DeltavPhotos @PortCanaveral That rocket is a hardcore veteran of many '\n",
      " 'missions',\n",
      " 'Blimps rock  https://t.co/e8cu5FkNOI',\n",
      " '@engineers_feed Due to lower gravity, you can travel from surface of Mars to '\n",
      " 'surface of Earth fairly easily with a single stage rocket. Earth to Mars is '\n",
      " 'vastly harder.',\n",
      " '@DrPhiltill Good thread',\n",
      " '@alexellisuk Pretty much',\n",
      " '@tesla_adri @WholeMarsBlog These things are best thought of as '\n",
      " 'probabilities. There are 5 forward-facing cameras. It is highly likely that '\n",
      " 'at least one of them will see multiple cars ahead.',\n",
      " '@WholeMarsBlog Sensors are a bitstream and cameras have several orders of '\n",
      " 'magnitude more bits/sec than radar (or lidar).   Radar must meaningfully '\n",
      " 'increase signal/noise of bitstream to be worth complexity of integrating '\n",
      " 'it.   As vision processing gets better, it just leaves radar far behind.',\n",
      " '@WholeMarsBlog When radar and vision disagree, which one do you believe? '\n",
      " 'Vision has much more precision, so better to double down on vision than do '\n",
      " 'sensor fusion.',\n",
      " '@WholeMarsBlog This is a major problem!',\n",
      " 'Just needs some legs',\n",
      " 'The Starship launch tower that catches the giant rocket booster is basically '\n",
      " 'Mechazilla',\n",
      " 'But wait how is the core of the earth lit by the sun? Stop asking '\n",
      " 'questions!!',\n",
      " 'Kong vs Godzilla has record for most meth ever consumed in a writer’s room',\n",
      " '@itsALLrisky 💯',\n",
      " '… going to moon very soon',\n",
      " '@Matsu_Kusarine @jagarikin Actually happened to me in Cyberpunk haha',\n",
      " '@TimBirks1 @Erdayastronaut @SpaceX Pretty much',\n",
      " '@memescryptor !',\n",
      " 'Where is Shrek 5!?  https://t.co/PqAZ5Mg8Es',\n",
      " '@AustinTeslaClub @OwenSparks_ @WholeMarsBlog Good point.   Next major '\n",
      " 'software rev will do much better with automating wipers, seat heating &amp; '\n",
      " 'defrost.   Probable seat settings just based on occupant mass distribution '\n",
      " 'should be possible.',\n",
      " '@Adamklotz_ @OwenSparks_ @WholeMarsBlog Yup',\n",
      " '@teslaownersSV @neuralink Turns out 🐒 love video games &amp; snacks just '\n",
      " 'like us!',\n",
      " 'It’s all about the cufflinks  https://t.co/elccqC0Zuf',\n",
      " '@chicago_glenn I feel like this sometimes',\n",
      " '@OwenSparks_ @WholeMarsBlog It will',\n",
      " '@OwenSparks_ @WholeMarsBlog Remove',\n",
      " '@w00ki33 @SpaceX @SuperclusterHQ Simulation is improving rendering '\n",
      " 'resolution  …',\n",
      " '@cleantechnica Congrats to NIO. That is a tough milestone.',\n",
      " '@WholeMarsBlog Almost ready with FSD Beta V9.0. Step change improvement is '\n",
      " 'massive, especially for weird corner cases &amp; bad weather. Pure vision, '\n",
      " 'no radar.',\n",
      " 'Thanks to all that helped SpaceX!',\n",
      " 'Just read it. Book is accurate.',\n",
      " '@TeslaGong Yeah',\n",
      " '@mikevanbus @TrungTPhan @neuralink Pretty much',\n",
      " ' https://t.co/XeQursZpvq',\n",
      " 'Soon our monkey will be on twitch &amp; discord haha',\n",
      " '@thenewsoncnbc @contessabrewer Good piece!',\n",
      " '@Kyler_Knoll @neuralink Comes with wireless charging baseball cap',\n",
      " '@TarekWaked @TechCrunch @etherington Pretty much 🤣🤣 Great episode!',\n",
      " 'A monkey is literally playing a video game telepathically using a brain '\n",
      " 'chip!!',\n",
      " '@lexfridman @neuralink Yes',\n",
      " 'The device is implanted flush with skull &amp; charges wirelessly, so you '\n",
      " 'look &amp; feel totally normal',\n",
      " '@IheartTesla Absolutely doable. Possibly as soon as Neuralink device version '\n",
      " '2, highly likely by version 3.',\n",
      " 'Later versions will be able to shunt signals from Neuralinks in brain to '\n",
      " 'Neuralinks in body motor/sensory neuron clusters, thus enabling, for '\n",
      " 'example, paraplegics to walk again',\n",
      " '@mindofkacper @neuralink Yes',\n",
      " 'First @Neuralink product will enable someone with paralysis to use a '\n",
      " 'smartphone with their mind faster than someone using thumbs',\n",
      " '@IheartTesla @neuralink Hopefully, later this year',\n",
      " '@tobyliiiiiiiiii Sure',\n",
      " 'Monkey plays Pong with his mind',\n",
      " '@dogeofficialceo @WatchersTank @SpaceX Looking at pups soon!',\n",
      " '@jordanxmajel @WatchersTank @SpaceX Shock absorption is built into tower '\n",
      " 'arms. Since tower is ground side, it can use a lot more mass to arrest '\n",
      " 'booster downward momentum.',\n",
      " '@jordanxmajel @WatchersTank @SpaceX Load points just below the grid fins',\n",
      " '@WatchersTank @SpaceX Just one skyscraper catching another nbd haha',\n",
      " 'Thanks Tesla suppliers for providing us with critical parts!',\n",
      " '@MarkJam93765764 @IvanEscobosa A tidal wave of vaccine is being produced!',\n",
      " '@jgrano305 Probably J&amp;J, but BioNtech &amp; Moderna are good too. Some '\n",
      " 'debate imo as to whether a second synthetic mRNA shot is really needed, but '\n",
      " 'the first is a no-brainer.',\n",
      " '@IvanEscobosa Latter',\n",
      " 'To be clear, I do support vaccines in general &amp; covid vaccines '\n",
      " 'specifically. The science is unequivocal.   In very rare cases, there is an '\n",
      " 'allergic reaction, but this is easily addressed with an EpiPen.',\n",
      " '@DavidWillisSLS @_Jevis_ @PPathole Needs legs for moon &amp; Mars',\n",
      " '@SciGuySpace Global payload to orbit is the key metric',\n",
      " '@Julius_Burton @Erdayastronaut @DJSnM @NASASpaceflight @ChrisG_NSF '\n",
      " '@thejackbeyer @FelixSchlang Nice',\n",
      " '@_Jevis_ @PPathole Ideal scenario imo is catching Starship in horizontal '\n",
      " '“glide” with no landing burn, although that is quite a challenge for the '\n",
      " 'tower! Next best is catching with tower, with emergency pad landing mode on '\n",
      " 'skirt (no legs).',\n",
      " '@PPathole Starship booster, largest flying object ever designed, will be '\n",
      " 'caught out of sky by launch tower. Big step forward, as reflight can be done '\n",
      " 'in under an hour.',\n",
      " '@WholeMarsBlog Well-written and fair, much like his articles on space',\n",
      " '@louisssdev @flcnhvy Coming soon. Crazy number of launches this year!',\n",
      " '@flcnhvy They will be recovered from the water &amp; reused',\n",
      " '“Tanks for the memery!” – Panzer of the Lake',\n",
      " '@CathieDWood @wintonARK @ARKInvest What do you think of the unusually high '\n",
      " 'ratio of S&amp;P market cap to GDP?',\n",
      " '@ID_AA_Carmack Some kind of ELO level, updated once or twice a year based on '\n",
      " 'what someone actually got done, might be most effective. Important that it '\n",
      " 'go both up *and* down.',\n",
      " '@Thomas38697956 New &amp; improved version!',\n",
      " '@Teslarati @ResidentSponge Special mention of Tesla China',\n",
      " '@shbzz Obv',\n",
      " '@Teslarati @ResidentSponge Great work by Tesla team!',\n",
      " '@EvaFoxU Nice',\n",
      " 'The Earth is not flat, it’s a hollow globe &amp; Donkey King lives there!',\n",
      " '@EvaFoxU Those two really could have come in handy for the stuck ship!',\n",
      " '@EvaFoxU Last Kingdom vs Vikings',\n",
      " '@spacex360 Ascent phase, transition to horizontal &amp; control during free '\n",
      " 'fall were good.   A (relatively) small CH4 leak led to fire on engine 2 '\n",
      " '&amp; fried part of avionics, causing hard start attempting landing burn in '\n",
      " 'CH4 turbopump.   This is getting fixed 6 ways to Sunday.',\n",
      " 'Godzilla vs Kong is so amaze much wow! Most insane movie I’ve ever seen! '\n",
      " 'Love letter to conspiracy theorists! And yet heartwarming in the end.',\n",
      " '@TerminalCount The Starships feast in Valhalla!',\n",
      " '@TerminalCount One of the greatest things I’ve ever seen',\n",
      " '@floko12022021 @HamblinZeke @katlinegrey Ich habe ein Semester Deutsch an '\n",
      " 'der Universität studiert usw',\n",
      " '@HamblinZeke @katlinegrey Haha Falcon? Nein!',\n",
      " '@tobyliiiiiiiiii @katlinegrey I recommend propulsive landing, as that is '\n",
      " 'extensible to planets, moons &amp; asteroids. Wings &amp; runways are '\n",
      " 'limited to Earth.',\n",
      " '@PPathole @katlinegrey For practical purposes, there is no limit. It will '\n",
      " 'just get increasingly difficult to service.',\n",
      " '@katlinegrey This a good path, but I recommend aiming for full reusability',\n",
      " 'Urgent need to build more housing in greater Austin area!',\n",
      " 'Austin++',\n",
      " 'No it doesn’t hurt at all 🩸  https://t.co/NnL6o1si0V',\n",
      " '@allrocketsboi True',\n",
      " '@GerberKawasaki I fried a lot of neurons on that problem!',\n",
      " 'Me in my sick new car (left him the money)  https://t.co/EGaY1FVfHm',\n",
      " '@TrungTPhan Had no money to invest in Zip2, but my founder equity yielded '\n",
      " '~$15M after tax. Of that, I rolled ~$10M into PayPal, which yielded ~$180M, '\n",
      " 'then …   Basic principle is that I would not ask investors to risk money on '\n",
      " 'my company if I would not also do so.',\n",
      " '@Gfilche Major new Supercharger station coming to Santa Monica soon! Hoping '\n",
      " 'to have 50’s diner &amp; 100 best movie clips playing too. Thanks Santa '\n",
      " 'Monica city!']\n"
     ]
    }
   ],
   "source": [
    "with open('../data/elonmusk_tweets.csv', newline='', encoding='utf8') as f:\n",
    "    tweets=[]\n",
    "    reader = csv.reader(f)\n",
    "    twitter_data = list(reader)\n",
    "    for tweet in twitter_data:\n",
    "        tweets.append(tweet[0])\n",
    "\n",
    "# pprint(tweets[:100])"
   ]
  },
  {
   "cell_type": "markdown",
   "id": "e630a8f1",
   "metadata": {},
   "source": [
    "First things first - let's look at the sentiment as determined by the [distilbert-base-uncased-finetuned-sst-2-english](https://huggingface.co/distilbert-base-uncased-finetuned-sst-2-english) (default model) in the pipeline."
   ]
  },
  {
   "cell_type": "code",
   "execution_count": 6,
   "id": "42b10279",
   "metadata": {},
   "outputs": [],
   "source": [
    "distil_sentiment = sentiment_pipeline(tweets[0:100])"
   ]
  },
  {
   "cell_type": "markdown",
   "id": "8ce3fefd",
   "metadata": {},
   "source": [
    "Let's check out the distribution of positive/negative Tweets and see the breakdown using Python's 🐍 standard library `collections.Counter`!"
   ]
  },
  {
   "cell_type": "code",
   "execution_count": 7,
   "id": "971a841d",
   "metadata": {},
   "outputs": [
    {
     "name": "stdout",
     "output_type": "stream",
     "text": [
      "49 (49.00%) of the tweets classified are positive.\n",
      "51 (51.00%) of the tweets classified are negative.\n"
     ]
    }
   ],
   "source": [
    "from collections import Counter\n",
    "\n",
    "tweet_distro = Counter([x['label'] for x in distil_sentiment])\n",
    "pos_sent_count = tweet_distro['POSITIVE']\n",
    "neg_sent_count = tweet_distro['NEGATIVE']\n",
    "total_sent_count = sum(tweet_distro.values())\n",
    "\n",
    "print(f\"{pos_sent_count} ({pos_sent_count / total_sent_count * 100:.2f}%) of the tweets classified are positive.\")\n",
    "print(f\"{neg_sent_count} ({neg_sent_count / total_sent_count * 100:.2f}%) of the tweets classified are negative.\")"
   ]
  },
  {
   "cell_type": "markdown",
   "id": "42155a0c",
   "metadata": {},
   "source": [
    "Let's do that process again, but use a model with an additional potential label \"NEUTRAL\" called [bertweet-sentiment-analysis](https://huggingface.co/finiteautomata/bertweet-base-sentiment-analysis)\n",
    "\n",
    "To start - we'll build a pipeline with the new model by using the 🤗 Hugging Face address: `finiteautomata/bertweet-base-sentiment-analysis`"
   ]
  },
  {
   "cell_type": "code",
   "execution_count": 8,
   "id": "3fd6e37f",
   "metadata": {},
   "outputs": [
    {
     "data": {
      "application/vnd.jupyter.widget-view+json": {
       "model_id": "bbb9cbfb64f941beb2d60fae0594550d",
       "version_major": 2,
       "version_minor": 0
      },
      "text/plain": [
       "Downloading:   0%|          | 0.00/890 [00:00<?, ?B/s]"
      ]
     },
     "metadata": {},
     "output_type": "display_data"
    },
    {
     "data": {
      "application/vnd.jupyter.widget-view+json": {
       "model_id": "08a182b65741449e839d0ca4cb42247a",
       "version_major": 2,
       "version_minor": 0
      },
      "text/plain": [
       "Downloading:   0%|          | 0.00/540M [00:00<?, ?B/s]"
      ]
     },
     "metadata": {},
     "output_type": "display_data"
    },
    {
     "data": {
      "application/vnd.jupyter.widget-view+json": {
       "model_id": "5b5523a630af49f788f9c62c31d5c1e0",
       "version_major": 2,
       "version_minor": 0
      },
      "text/plain": [
       "Downloading:   0%|          | 0.00/295 [00:00<?, ?B/s]"
      ]
     },
     "metadata": {},
     "output_type": "display_data"
    },
    {
     "data": {
      "application/vnd.jupyter.widget-view+json": {
       "model_id": "7be343537f25487681300b770a7d1c27",
       "version_major": 2,
       "version_minor": 0
      },
      "text/plain": [
       "Downloading:   0%|          | 0.00/843k [00:00<?, ?B/s]"
      ]
     },
     "metadata": {},
     "output_type": "display_data"
    },
    {
     "data": {
      "application/vnd.jupyter.widget-view+json": {
       "model_id": "2111ca6efc8342638e9ce3aeff7028dc",
       "version_major": 2,
       "version_minor": 0
      },
      "text/plain": [
       "Downloading:   0%|          | 0.00/1.08M [00:00<?, ?B/s]"
      ]
     },
     "metadata": {},
     "output_type": "display_data"
    },
    {
     "data": {
      "application/vnd.jupyter.widget-view+json": {
       "model_id": "e1ef68600a534d1b923560a269298ae6",
       "version_major": 2,
       "version_minor": 0
      },
      "text/plain": [
       "Downloading:   0%|          | 0.00/17.0 [00:00<?, ?B/s]"
      ]
     },
     "metadata": {},
     "output_type": "display_data"
    },
    {
     "data": {
      "application/vnd.jupyter.widget-view+json": {
       "model_id": "4d2fa9990fed40f48ed0341fdc204063",
       "version_major": 2,
       "version_minor": 0
      },
      "text/plain": [
       "Downloading:   0%|          | 0.00/150 [00:00<?, ?B/s]"
      ]
     },
     "metadata": {},
     "output_type": "display_data"
    },
    {
     "name": "stderr",
     "output_type": "stream",
     "text": [
      "emoji is not installed, thus not converting emoticons or emojis into text. Install emoji: pip3 install emoji==0.6.0\n"
     ]
    }
   ],
   "source": [
    "bertweet_pipeline = pipeline(model=\"finiteautomata/bertweet-base-sentiment-analysis\")"
   ]
  },
  {
   "cell_type": "markdown",
   "id": "7025127d",
   "metadata": {},
   "source": [
    "Next, and the same as before, let's run the analysis on 100 of Elon's tweets."
   ]
  },
  {
   "cell_type": "code",
   "execution_count": 9,
   "id": "5daa650d",
   "metadata": {},
   "outputs": [],
   "source": [
    "bert_sentiment = bertweet_pipeline(tweets[0:100])"
   ]
  },
  {
   "cell_type": "markdown",
   "id": "6d8a316d",
   "metadata": {},
   "source": [
    "And then, let's check out the breakdown of positive, negative, AND neutral sentiments!"
   ]
  },
  {
   "cell_type": "code",
   "execution_count": 10,
   "id": "6996cc58",
   "metadata": {},
   "outputs": [
    {
     "name": "stdout",
     "output_type": "stream",
     "text": [
      "29 (29.00%) of the tweets classified are positive.\n",
      "64 (64.00%) of the tweets classified are neutral.\n",
      "7 (7.00%) of the tweets classified are negative.\n"
     ]
    }
   ],
   "source": [
    "from collections import Counter\n",
    "\n",
    "tweet_distro = Counter([x['label'] for x in bert_sentiment])\n",
    "pos_sent_count = tweet_distro['POS']\n",
    "neu_sent_count = tweet_distro['NEU']\n",
    "neg_sent_count = tweet_distro['NEG']\n",
    "total_sent_count = sum(tweet_distro.values())\n",
    "\n",
    "print(f\"{pos_sent_count} ({pos_sent_count / total_sent_count * 100:.2f}%) of the tweets classified are positive.\")\n",
    "print(f\"{neu_sent_count} ({neu_sent_count / total_sent_count * 100:.2f}%) of the tweets classified are neutral.\")\n",
    "print(f\"{neg_sent_count} ({neg_sent_count / total_sent_count * 100:.2f}%) of the tweets classified are negative.\")"
   ]
  },
  {
   "cell_type": "code",
   "execution_count": 53,
   "id": "d227a158",
   "metadata": {},
   "outputs": [
    {
     "name": "stdout",
     "output_type": "stream",
     "text": [
      "[{'label': 'NEGATIVE', 'score': 0.9857599139213562}]\n",
      "[{'label': 'POSITIVE', 'score': 0.9532566666603088}]\n"
     ]
    }
   ],
   "source": [
    "print(sentiment_pipeline('The movie was filmed in black and white.'))\n",
    "print(sentiment_pipeline('The movie was filmed in color.'))"
   ]
  },
  {
   "cell_type": "code",
   "execution_count": 49,
   "id": "e015e639",
   "metadata": {},
   "outputs": [
    {
     "data": {
      "text/plain": [
       "[{'label': 'NEU', 'score': 0.9514453411102295}]"
      ]
     },
     "execution_count": 49,
     "metadata": {},
     "output_type": "execute_result"
    }
   ],
   "source": [
    "bertweet_pipeline('The movie was filmed in black and white.')"
   ]
  },
  {
   "cell_type": "code",
   "execution_count": 13,
   "id": "25eb9322",
   "metadata": {},
   "outputs": [],
   "source": [
    "tweets_filtered = tweets[:100]"
   ]
  },
  {
   "cell_type": "code",
   "execution_count": 23,
   "id": "a391c74a",
   "metadata": {},
   "outputs": [],
   "source": [
    "import pandas as pd\n",
    "pd.set_option('display.max_colwidth', None)\n",
    "pd.set_option('display.max_rows', None)\n",
    "pd.set_option('display.max_columns', None)\n",
    "\n",
    "df = pd.DataFrame(tweets_filtered, columns=['tweet'])\n",
    "df['label_distil'] = [x['label'] for x in distil_sentiment]\n",
    "df['score_distil'] = [x['score'] for x in distil_sentiment]\n",
    "df['label_bert'] = [x['label'] for x in bert_sentiment]\n",
    "df['score_bert'] = [x['score'] for x in bert_sentiment]"
   ]
  },
  {
   "cell_type": "code",
   "execution_count": 24,
   "id": "5ac9a92e",
   "metadata": {},
   "outputs": [
    {
     "data": {
      "text/html": [
       "<div>\n",
       "<style scoped>\n",
       "    .dataframe tbody tr th:only-of-type {\n",
       "        vertical-align: middle;\n",
       "    }\n",
       "\n",
       "    .dataframe tbody tr th {\n",
       "        vertical-align: top;\n",
       "    }\n",
       "\n",
       "    .dataframe thead th {\n",
       "        text-align: right;\n",
       "    }\n",
       "</style>\n",
       "<table border=\"1\" class=\"dataframe\">\n",
       "  <thead>\n",
       "    <tr style=\"text-align: right;\">\n",
       "      <th></th>\n",
       "      <th>tweet</th>\n",
       "      <th>label_distil</th>\n",
       "      <th>score_distil</th>\n",
       "      <th>label_bert</th>\n",
       "      <th>score_bert</th>\n",
       "    </tr>\n",
       "  </thead>\n",
       "  <tbody>\n",
       "    <tr>\n",
       "      <th>15</th>\n",
       "      <td>@WholeMarsBlog This is a major problem!</td>\n",
       "      <td>NEGATIVE</td>\n",
       "      <td>0.999600</td>\n",
       "      <td>NEG</td>\n",
       "      <td>0.980315</td>\n",
       "    </tr>\n",
       "    <tr>\n",
       "      <th>4</th>\n",
       "      <td>@itsALLrisky 🤣🤣</td>\n",
       "      <td>NEGATIVE</td>\n",
       "      <td>0.983950</td>\n",
       "      <td>NEG</td>\n",
       "      <td>0.962732</td>\n",
       "    </tr>\n",
       "    <tr>\n",
       "      <th>20</th>\n",
       "      <td>@itsALLrisky 💯</td>\n",
       "      <td>NEGATIVE</td>\n",
       "      <td>0.983950</td>\n",
       "      <td>NEG</td>\n",
       "      <td>0.962206</td>\n",
       "    </tr>\n",
       "    <tr>\n",
       "      <th>96</th>\n",
       "      <td>@GerberKawasaki I fried a lot of neurons on that problem!</td>\n",
       "      <td>NEGATIVE</td>\n",
       "      <td>0.992092</td>\n",
       "      <td>NEG</td>\n",
       "      <td>0.960584</td>\n",
       "    </tr>\n",
       "    <tr>\n",
       "      <th>18</th>\n",
       "      <td>But wait how is the core of the earth lit by the sun? Stop asking questions!!</td>\n",
       "      <td>NEGATIVE</td>\n",
       "      <td>0.998437</td>\n",
       "      <td>NEG</td>\n",
       "      <td>0.805101</td>\n",
       "    </tr>\n",
       "    <tr>\n",
       "      <th>19</th>\n",
       "      <td>Kong vs Godzilla has record for most meth ever consumed in a writer’s room</td>\n",
       "      <td>POSITIVE</td>\n",
       "      <td>0.621601</td>\n",
       "      <td>NEG</td>\n",
       "      <td>0.763041</td>\n",
       "    </tr>\n",
       "    <tr>\n",
       "      <th>51</th>\n",
       "      <td>First @Neuralink product will enable someone with paralysis to use a smartphone with their mind faster than someone using thumbs</td>\n",
       "      <td>NEGATIVE</td>\n",
       "      <td>0.995486</td>\n",
       "      <td>NEG</td>\n",
       "      <td>0.760998</td>\n",
       "    </tr>\n",
       "  </tbody>\n",
       "</table>\n",
       "</div>"
      ],
      "text/plain": [
       "                                                                                                                               tweet  \\\n",
       "15                                                                                           @WholeMarsBlog This is a major problem!   \n",
       "4                                                                                                                    @itsALLrisky 🤣🤣   \n",
       "20                                                                                                                    @itsALLrisky 💯   \n",
       "96                                                                         @GerberKawasaki I fried a lot of neurons on that problem!   \n",
       "18                                                     But wait how is the core of the earth lit by the sun? Stop asking questions!!   \n",
       "19                                                        Kong vs Godzilla has record for most meth ever consumed in a writer’s room   \n",
       "51  First @Neuralink product will enable someone with paralysis to use a smartphone with their mind faster than someone using thumbs   \n",
       "\n",
       "   label_distil  score_distil label_bert  score_bert  \n",
       "15     NEGATIVE      0.999600        NEG    0.980315  \n",
       "4      NEGATIVE      0.983950        NEG    0.962732  \n",
       "20     NEGATIVE      0.983950        NEG    0.962206  \n",
       "96     NEGATIVE      0.992092        NEG    0.960584  \n",
       "18     NEGATIVE      0.998437        NEG    0.805101  \n",
       "19     POSITIVE      0.621601        NEG    0.763041  \n",
       "51     NEGATIVE      0.995486        NEG    0.760998  "
      ]
     },
     "execution_count": 24,
     "metadata": {},
     "output_type": "execute_result"
    }
   ],
   "source": [
    "df.loc[df['label_bert'] == 'NEG', :].sort_values(by=['score_bert'], ascending=False)"
   ]
  },
  {
   "cell_type": "code",
   "execution_count": 26,
   "id": "5c888a1f",
   "metadata": {},
   "outputs": [
    {
     "data": {
      "text/html": [
       "<div>\n",
       "<style scoped>\n",
       "    .dataframe tbody tr th:only-of-type {\n",
       "        vertical-align: middle;\n",
       "    }\n",
       "\n",
       "    .dataframe tbody tr th {\n",
       "        vertical-align: top;\n",
       "    }\n",
       "\n",
       "    .dataframe thead th {\n",
       "        text-align: right;\n",
       "    }\n",
       "</style>\n",
       "<table border=\"1\" class=\"dataframe\">\n",
       "  <thead>\n",
       "    <tr style=\"text-align: right;\">\n",
       "      <th></th>\n",
       "      <th>tweet</th>\n",
       "      <th>label_distil</th>\n",
       "      <th>score_distil</th>\n",
       "      <th>label_bert</th>\n",
       "      <th>score_bert</th>\n",
       "    </tr>\n",
       "  </thead>\n",
       "  <tbody>\n",
       "    <tr>\n",
       "      <th>74</th>\n",
       "      <td>@ID_AA_Carmack Some kind of ELO level, updated once or twice a year based on what someone actually got done, might be most effective. Important that it go both up *and* down.</td>\n",
       "      <td>NEGATIVE</td>\n",
       "      <td>0.539766</td>\n",
       "      <td>NEU</td>\n",
       "      <td>0.720872</td>\n",
       "    </tr>\n",
       "    <tr>\n",
       "      <th>56</th>\n",
       "      <td>@jordanxmajel @WatchersTank @SpaceX Shock absorption is built into tower arms. Since tower is ground side, it can use a lot more mass to arrest booster downward momentum.</td>\n",
       "      <td>NEGATIVE</td>\n",
       "      <td>0.679888</td>\n",
       "      <td>NEU</td>\n",
       "      <td>0.952736</td>\n",
       "    </tr>\n",
       "    <tr>\n",
       "      <th>82</th>\n",
       "      <td>@EvaFoxU Last Kingdom vs Vikings</td>\n",
       "      <td>NEGATIVE</td>\n",
       "      <td>0.761927</td>\n",
       "      <td>NEU</td>\n",
       "      <td>0.977231</td>\n",
       "    </tr>\n",
       "    <tr>\n",
       "      <th>80</th>\n",
       "      <td>The Earth is not flat, it’s a hollow globe &amp;amp; Donkey King lives there!</td>\n",
       "      <td>NEGATIVE</td>\n",
       "      <td>0.809989</td>\n",
       "      <td>NEU</td>\n",
       "      <td>0.954809</td>\n",
       "    </tr>\n",
       "    <tr>\n",
       "      <th>2</th>\n",
       "      <td>@agnostoxxx @CathieDWood @ARKInvest Trust the shrub</td>\n",
       "      <td>NEGATIVE</td>\n",
       "      <td>0.849833</td>\n",
       "      <td>NEU</td>\n",
       "      <td>0.973386</td>\n",
       "    </tr>\n",
       "    <tr>\n",
       "      <th>60</th>\n",
       "      <td>@MarkJam93765764 @IvanEscobosa A tidal wave of vaccine is being produced!</td>\n",
       "      <td>NEGATIVE</td>\n",
       "      <td>0.898113</td>\n",
       "      <td>NEU</td>\n",
       "      <td>0.908238</td>\n",
       "    </tr>\n",
       "    <tr>\n",
       "      <th>12</th>\n",
       "      <td>@tesla_adri @WholeMarsBlog These things are best thought of as probabilities. There are 5 forward-facing cameras. It is highly likely that at least one of them will see multiple cars ahead.</td>\n",
       "      <td>NEGATIVE</td>\n",
       "      <td>0.914252</td>\n",
       "      <td>NEU</td>\n",
       "      <td>0.933398</td>\n",
       "    </tr>\n",
       "    <tr>\n",
       "      <th>62</th>\n",
       "      <td>@IvanEscobosa Latter</td>\n",
       "      <td>NEGATIVE</td>\n",
       "      <td>0.926800</td>\n",
       "      <td>NEU</td>\n",
       "      <td>0.978084</td>\n",
       "    </tr>\n",
       "    <tr>\n",
       "      <th>73</th>\n",
       "      <td>@CathieDWood @wintonARK @ARKInvest What do you think of the unusually high ratio of S&amp;amp;P market cap to GDP?</td>\n",
       "      <td>NEGATIVE</td>\n",
       "      <td>0.940365</td>\n",
       "      <td>NEU</td>\n",
       "      <td>0.945433</td>\n",
       "    </tr>\n",
       "    <tr>\n",
       "      <th>27</th>\n",
       "      <td>@Adamklotz_ @OwenSparks_ @WholeMarsBlog Yup</td>\n",
       "      <td>NEGATIVE</td>\n",
       "      <td>0.949726</td>\n",
       "      <td>NEU</td>\n",
       "      <td>0.932738</td>\n",
       "    </tr>\n",
       "    <tr>\n",
       "      <th>43</th>\n",
       "      <td>@Kyler_Knoll @neuralink Comes with wireless charging baseball cap</td>\n",
       "      <td>NEGATIVE</td>\n",
       "      <td>0.950306</td>\n",
       "      <td>NEU</td>\n",
       "      <td>0.774128</td>\n",
       "    </tr>\n",
       "    <tr>\n",
       "      <th>63</th>\n",
       "      <td>To be clear, I do support vaccines in general &amp;amp; covid vaccines specifically. The science is unequivocal.   In very rare cases, there is an allergic reaction, but this is easily addressed with an EpiPen.</td>\n",
       "      <td>NEGATIVE</td>\n",
       "      <td>0.959172</td>\n",
       "      <td>NEU</td>\n",
       "      <td>0.875407</td>\n",
       "    </tr>\n",
       "    <tr>\n",
       "      <th>47</th>\n",
       "      <td>The device is implanted flush with skull &amp;amp; charges wirelessly, so you look &amp;amp; feel totally normal</td>\n",
       "      <td>NEGATIVE</td>\n",
       "      <td>0.976280</td>\n",
       "      <td>NEU</td>\n",
       "      <td>0.670344</td>\n",
       "    </tr>\n",
       "    <tr>\n",
       "      <th>45</th>\n",
       "      <td>A monkey is literally playing a video game telepathically using a brain chip!!</td>\n",
       "      <td>NEGATIVE</td>\n",
       "      <td>0.982863</td>\n",
       "      <td>NEU</td>\n",
       "      <td>0.640832</td>\n",
       "    </tr>\n",
       "    <tr>\n",
       "      <th>9</th>\n",
       "      <td>@engineers_feed Due to lower gravity, you can travel from surface of Mars to surface of Earth fairly easily with a single stage rocket. Earth to Mars is vastly harder.</td>\n",
       "      <td>NEGATIVE</td>\n",
       "      <td>0.984098</td>\n",
       "      <td>NEU</td>\n",
       "      <td>0.945598</td>\n",
       "    </tr>\n",
       "    <tr>\n",
       "      <th>77</th>\n",
       "      <td>@shbzz Obv</td>\n",
       "      <td>NEGATIVE</td>\n",
       "      <td>0.985640</td>\n",
       "      <td>NEU</td>\n",
       "      <td>0.974590</td>\n",
       "    </tr>\n",
       "    <tr>\n",
       "      <th>22</th>\n",
       "      <td>@Matsu_Kusarine @jagarikin Actually happened to me in Cyberpunk haha</td>\n",
       "      <td>NEGATIVE</td>\n",
       "      <td>0.986067</td>\n",
       "      <td>NEU</td>\n",
       "      <td>0.679822</td>\n",
       "    </tr>\n",
       "    <tr>\n",
       "      <th>72</th>\n",
       "      <td>“Tanks for the memery!” – Panzer of the Lake</td>\n",
       "      <td>NEGATIVE</td>\n",
       "      <td>0.987501</td>\n",
       "      <td>NEU</td>\n",
       "      <td>0.980382</td>\n",
       "    </tr>\n",
       "    <tr>\n",
       "      <th>83</th>\n",
       "      <td>@spacex360 Ascent phase, transition to horizontal &amp;amp; control during free fall were good.   A (relatively) small CH4 leak led to fire on engine 2 &amp;amp; fried part of avionics, causing hard start attempting landing burn in CH4 turbopump.   This is getting fixed 6 ways to Sunday.</td>\n",
       "      <td>NEGATIVE</td>\n",
       "      <td>0.987665</td>\n",
       "      <td>NEU</td>\n",
       "      <td>0.811109</td>\n",
       "    </tr>\n",
       "    <tr>\n",
       "      <th>29</th>\n",
       "      <td>It’s all about the cufflinks  https://t.co/elccqC0Zuf</td>\n",
       "      <td>NEGATIVE</td>\n",
       "      <td>0.990402</td>\n",
       "      <td>NEU</td>\n",
       "      <td>0.957232</td>\n",
       "    </tr>\n",
       "    <tr>\n",
       "      <th>6</th>\n",
       "      <td>@WholeMarsBlog If you don’t say anything &amp;amp; engage Autopilot, it will soon guess based on time of day, taking you home or to work or to what’s on your calendar</td>\n",
       "      <td>NEGATIVE</td>\n",
       "      <td>0.991768</td>\n",
       "      <td>NEU</td>\n",
       "      <td>0.926354</td>\n",
       "    </tr>\n",
       "    <tr>\n",
       "      <th>87</th>\n",
       "      <td>@floko12022021 @HamblinZeke @katlinegrey Ich habe ein Semester Deutsch an der Universität studiert usw</td>\n",
       "      <td>NEGATIVE</td>\n",
       "      <td>0.992837</td>\n",
       "      <td>NEU</td>\n",
       "      <td>0.979249</td>\n",
       "    </tr>\n",
       "    <tr>\n",
       "      <th>40</th>\n",
       "      <td>https://t.co/XeQursZpvq</td>\n",
       "      <td>NEGATIVE</td>\n",
       "      <td>0.993062</td>\n",
       "      <td>NEU</td>\n",
       "      <td>0.915907</td>\n",
       "    </tr>\n",
       "    <tr>\n",
       "      <th>5</th>\n",
       "      <td>@seinfeldguru @WholeMarsBlog Nope haha</td>\n",
       "      <td>NEGATIVE</td>\n",
       "      <td>0.993329</td>\n",
       "      <td>NEU</td>\n",
       "      <td>0.865781</td>\n",
       "    </tr>\n",
       "    <tr>\n",
       "      <th>17</th>\n",
       "      <td>The Starship launch tower that catches the giant rocket booster is basically Mechazilla</td>\n",
       "      <td>NEGATIVE</td>\n",
       "      <td>0.993550</td>\n",
       "      <td>NEU</td>\n",
       "      <td>0.965556</td>\n",
       "    </tr>\n",
       "    <tr>\n",
       "      <th>14</th>\n",
       "      <td>@WholeMarsBlog When radar and vision disagree, which one do you believe? Vision has much more precision, so better to double down on vision than do sensor fusion.</td>\n",
       "      <td>NEGATIVE</td>\n",
       "      <td>0.994660</td>\n",
       "      <td>NEU</td>\n",
       "      <td>0.883727</td>\n",
       "    </tr>\n",
       "    <tr>\n",
       "      <th>71</th>\n",
       "      <td>@flcnhvy They will be recovered from the water &amp;amp; reused</td>\n",
       "      <td>NEGATIVE</td>\n",
       "      <td>0.994842</td>\n",
       "      <td>NEU</td>\n",
       "      <td>0.910492</td>\n",
       "    </tr>\n",
       "    <tr>\n",
       "      <th>64</th>\n",
       "      <td>@DavidWillisSLS @_Jevis_ @PPathole Needs legs for moon &amp;amp; Mars</td>\n",
       "      <td>NEGATIVE</td>\n",
       "      <td>0.995695</td>\n",
       "      <td>NEU</td>\n",
       "      <td>0.973063</td>\n",
       "    </tr>\n",
       "    <tr>\n",
       "      <th>98</th>\n",
       "      <td>@TrungTPhan Had no money to invest in Zip2, but my founder equity yielded ~$15M after tax. Of that, I rolled ~$10M into PayPal, which yielded ~$180M, then …   Basic principle is that I would not ask investors to risk money on my company if I would not also do so.</td>\n",
       "      <td>NEGATIVE</td>\n",
       "      <td>0.995760</td>\n",
       "      <td>NEU</td>\n",
       "      <td>0.913114</td>\n",
       "    </tr>\n",
       "    <tr>\n",
       "      <th>0</th>\n",
       "      <td>@vincent13031925 For now. Costs are decreasing rapidly.</td>\n",
       "      <td>NEGATIVE</td>\n",
       "      <td>0.996366</td>\n",
       "      <td>NEU</td>\n",
       "      <td>0.952393</td>\n",
       "    </tr>\n",
       "    <tr>\n",
       "      <th>88</th>\n",
       "      <td>@HamblinZeke @katlinegrey Haha Falcon? Nein!</td>\n",
       "      <td>NEGATIVE</td>\n",
       "      <td>0.996868</td>\n",
       "      <td>NEU</td>\n",
       "      <td>0.887339</td>\n",
       "    </tr>\n",
       "    <tr>\n",
       "      <th>57</th>\n",
       "      <td>@jordanxmajel @WatchersTank @SpaceX Load points just below the grid fins</td>\n",
       "      <td>NEGATIVE</td>\n",
       "      <td>0.997080</td>\n",
       "      <td>NEU</td>\n",
       "      <td>0.971971</td>\n",
       "    </tr>\n",
       "    <tr>\n",
       "      <th>25</th>\n",
       "      <td>Where is Shrek 5!?  https://t.co/PqAZ5Mg8Es</td>\n",
       "      <td>NEGATIVE</td>\n",
       "      <td>0.997741</td>\n",
       "      <td>NEU</td>\n",
       "      <td>0.960194</td>\n",
       "    </tr>\n",
       "    <tr>\n",
       "      <th>13</th>\n",
       "      <td>@WholeMarsBlog Sensors are a bitstream and cameras have several orders of magnitude more bits/sec than radar (or lidar).   Radar must meaningfully increase signal/noise of bitstream to be worth complexity of integrating it.   As vision processing gets better, it just leaves radar far behind.</td>\n",
       "      <td>NEGATIVE</td>\n",
       "      <td>0.997803</td>\n",
       "      <td>NEU</td>\n",
       "      <td>0.905119</td>\n",
       "    </tr>\n",
       "    <tr>\n",
       "      <th>35</th>\n",
       "      <td>@WholeMarsBlog Almost ready with FSD Beta V9.0. Step change improvement is massive, especially for weird corner cases &amp;amp; bad weather. Pure vision, no radar.</td>\n",
       "      <td>NEGATIVE</td>\n",
       "      <td>0.998339</td>\n",
       "      <td>NEU</td>\n",
       "      <td>0.532910</td>\n",
       "    </tr>\n",
       "    <tr>\n",
       "      <th>81</th>\n",
       "      <td>@EvaFoxU Those two really could have come in handy for the stuck ship!</td>\n",
       "      <td>NEGATIVE</td>\n",
       "      <td>0.998651</td>\n",
       "      <td>NEU</td>\n",
       "      <td>0.664834</td>\n",
       "    </tr>\n",
       "    <tr>\n",
       "      <th>16</th>\n",
       "      <td>Just needs some legs</td>\n",
       "      <td>NEGATIVE</td>\n",
       "      <td>0.998712</td>\n",
       "      <td>NEU</td>\n",
       "      <td>0.957365</td>\n",
       "    </tr>\n",
       "    <tr>\n",
       "      <th>97</th>\n",
       "      <td>Me in my sick new car (left him the money)  https://t.co/EGaY1FVfHm</td>\n",
       "      <td>NEGATIVE</td>\n",
       "      <td>0.998769</td>\n",
       "      <td>NEU</td>\n",
       "      <td>0.768268</td>\n",
       "    </tr>\n",
       "    <tr>\n",
       "      <th>90</th>\n",
       "      <td>@PPathole @katlinegrey For practical purposes, there is no limit. It will just get increasingly difficult to service.</td>\n",
       "      <td>NEGATIVE</td>\n",
       "      <td>0.999526</td>\n",
       "      <td>NEU</td>\n",
       "      <td>0.822135</td>\n",
       "    </tr>\n",
       "    <tr>\n",
       "      <th>32</th>\n",
       "      <td>@OwenSparks_ @WholeMarsBlog Remove</td>\n",
       "      <td>NEGATIVE</td>\n",
       "      <td>0.999625</td>\n",
       "      <td>NEU</td>\n",
       "      <td>0.779943</td>\n",
       "    </tr>\n",
       "  </tbody>\n",
       "</table>\n",
       "</div>"
      ],
      "text/plain": [
       "                                                                                                                                                                                                                                                                                                   tweet  \\\n",
       "74                                                                                                                        @ID_AA_Carmack Some kind of ELO level, updated once or twice a year based on what someone actually got done, might be most effective. Important that it go both up *and* down.   \n",
       "56                                                                                                                            @jordanxmajel @WatchersTank @SpaceX Shock absorption is built into tower arms. Since tower is ground side, it can use a lot more mass to arrest booster downward momentum.   \n",
       "82                                                                                                                                                                                                                                                                      @EvaFoxU Last Kingdom vs Vikings   \n",
       "80                                                                                                                                                                                                                             The Earth is not flat, it’s a hollow globe &amp; Donkey King lives there!   \n",
       "2                                                                                                                                                                                                                                                    @agnostoxxx @CathieDWood @ARKInvest Trust the shrub   \n",
       "60                                                                                                                                                                                                                             @MarkJam93765764 @IvanEscobosa A tidal wave of vaccine is being produced!   \n",
       "12                                                                                                         @tesla_adri @WholeMarsBlog These things are best thought of as probabilities. There are 5 forward-facing cameras. It is highly likely that at least one of them will see multiple cars ahead.   \n",
       "62                                                                                                                                                                                                                                                                                  @IvanEscobosa Latter   \n",
       "73                                                                                                                                                                                        @CathieDWood @wintonARK @ARKInvest What do you think of the unusually high ratio of S&amp;P market cap to GDP?   \n",
       "27                                                                                                                                                                                                                                                           @Adamklotz_ @OwenSparks_ @WholeMarsBlog Yup   \n",
       "43                                                                                                                                                                                                                                     @Kyler_Knoll @neuralink Comes with wireless charging baseball cap   \n",
       "63                                                                                        To be clear, I do support vaccines in general &amp; covid vaccines specifically. The science is unequivocal.   In very rare cases, there is an allergic reaction, but this is easily addressed with an EpiPen.   \n",
       "47                                                                                                                                                                                              The device is implanted flush with skull &amp; charges wirelessly, so you look &amp; feel totally normal   \n",
       "45                                                                                                                                                                                                                        A monkey is literally playing a video game telepathically using a brain chip!!   \n",
       "9                                                                                                                                @engineers_feed Due to lower gravity, you can travel from surface of Mars to surface of Earth fairly easily with a single stage rocket. Earth to Mars is vastly harder.   \n",
       "77                                                                                                                                                                                                                                                                                            @shbzz Obv   \n",
       "22                                                                                                                                                                                                                                  @Matsu_Kusarine @jagarikin Actually happened to me in Cyberpunk haha   \n",
       "72                                                                                                                                                                                                                                                          “Tanks for the memery!” – Panzer of the Lake   \n",
       "83              @spacex360 Ascent phase, transition to horizontal &amp; control during free fall were good.   A (relatively) small CH4 leak led to fire on engine 2 &amp; fried part of avionics, causing hard start attempting landing burn in CH4 turbopump.   This is getting fixed 6 ways to Sunday.   \n",
       "29                                                                                                                                                                                                                                                 It’s all about the cufflinks  https://t.co/elccqC0Zuf   \n",
       "6                                                                                                                                     @WholeMarsBlog If you don’t say anything &amp; engage Autopilot, it will soon guess based on time of day, taking you home or to work or to what’s on your calendar   \n",
       "87                                                                                                                                                                                                @floko12022021 @HamblinZeke @katlinegrey Ich habe ein Semester Deutsch an der Universität studiert usw   \n",
       "40                                                                                                                                                                                                                                                                               https://t.co/XeQursZpvq   \n",
       "5                                                                                                                                                                                                                                                                 @seinfeldguru @WholeMarsBlog Nope haha   \n",
       "17                                                                                                                                                                                                               The Starship launch tower that catches the giant rocket booster is basically Mechazilla   \n",
       "14                                                                                                                                    @WholeMarsBlog When radar and vision disagree, which one do you believe? Vision has much more precision, so better to double down on vision than do sensor fusion.   \n",
       "71                                                                                                                                                                                                                                           @flcnhvy They will be recovered from the water &amp; reused   \n",
       "64                                                                                                                                                                                                                                     @DavidWillisSLS @_Jevis_ @PPathole Needs legs for moon &amp; Mars   \n",
       "98                               @TrungTPhan Had no money to invest in Zip2, but my founder equity yielded ~$15M after tax. Of that, I rolled ~$10M into PayPal, which yielded ~$180M, then …   Basic principle is that I would not ask investors to risk money on my company if I would not also do so.   \n",
       "0                                                                                                                                                                                                                                                @vincent13031925 For now. Costs are decreasing rapidly.   \n",
       "88                                                                                                                                                                                                                                                          @HamblinZeke @katlinegrey Haha Falcon? Nein!   \n",
       "57                                                                                                                                                                                                                              @jordanxmajel @WatchersTank @SpaceX Load points just below the grid fins   \n",
       "25                                                                                                                                                                                                                                                           Where is Shrek 5!?  https://t.co/PqAZ5Mg8Es   \n",
       "13  @WholeMarsBlog Sensors are a bitstream and cameras have several orders of magnitude more bits/sec than radar (or lidar).   Radar must meaningfully increase signal/noise of bitstream to be worth complexity of integrating it.   As vision processing gets better, it just leaves radar far behind.   \n",
       "35                                                                                                                                       @WholeMarsBlog Almost ready with FSD Beta V9.0. Step change improvement is massive, especially for weird corner cases &amp; bad weather. Pure vision, no radar.   \n",
       "81                                                                                                                                                                                                                                @EvaFoxU Those two really could have come in handy for the stuck ship!   \n",
       "16                                                                                                                                                                                                                                                                                  Just needs some legs   \n",
       "97                                                                                                                                                                                                                                   Me in my sick new car (left him the money)  https://t.co/EGaY1FVfHm   \n",
       "90                                                                                                                                                                                 @PPathole @katlinegrey For practical purposes, there is no limit. It will just get increasingly difficult to service.   \n",
       "32                                                                                                                                                                                                                                                                    @OwenSparks_ @WholeMarsBlog Remove   \n",
       "\n",
       "   label_distil  score_distil label_bert  score_bert  \n",
       "74     NEGATIVE      0.539766        NEU    0.720872  \n",
       "56     NEGATIVE      0.679888        NEU    0.952736  \n",
       "82     NEGATIVE      0.761927        NEU    0.977231  \n",
       "80     NEGATIVE      0.809989        NEU    0.954809  \n",
       "2      NEGATIVE      0.849833        NEU    0.973386  \n",
       "60     NEGATIVE      0.898113        NEU    0.908238  \n",
       "12     NEGATIVE      0.914252        NEU    0.933398  \n",
       "62     NEGATIVE      0.926800        NEU    0.978084  \n",
       "73     NEGATIVE      0.940365        NEU    0.945433  \n",
       "27     NEGATIVE      0.949726        NEU    0.932738  \n",
       "43     NEGATIVE      0.950306        NEU    0.774128  \n",
       "63     NEGATIVE      0.959172        NEU    0.875407  \n",
       "47     NEGATIVE      0.976280        NEU    0.670344  \n",
       "45     NEGATIVE      0.982863        NEU    0.640832  \n",
       "9      NEGATIVE      0.984098        NEU    0.945598  \n",
       "77     NEGATIVE      0.985640        NEU    0.974590  \n",
       "22     NEGATIVE      0.986067        NEU    0.679822  \n",
       "72     NEGATIVE      0.987501        NEU    0.980382  \n",
       "83     NEGATIVE      0.987665        NEU    0.811109  \n",
       "29     NEGATIVE      0.990402        NEU    0.957232  \n",
       "6      NEGATIVE      0.991768        NEU    0.926354  \n",
       "87     NEGATIVE      0.992837        NEU    0.979249  \n",
       "40     NEGATIVE      0.993062        NEU    0.915907  \n",
       "5      NEGATIVE      0.993329        NEU    0.865781  \n",
       "17     NEGATIVE      0.993550        NEU    0.965556  \n",
       "14     NEGATIVE      0.994660        NEU    0.883727  \n",
       "71     NEGATIVE      0.994842        NEU    0.910492  \n",
       "64     NEGATIVE      0.995695        NEU    0.973063  \n",
       "98     NEGATIVE      0.995760        NEU    0.913114  \n",
       "0      NEGATIVE      0.996366        NEU    0.952393  \n",
       "88     NEGATIVE      0.996868        NEU    0.887339  \n",
       "57     NEGATIVE      0.997080        NEU    0.971971  \n",
       "25     NEGATIVE      0.997741        NEU    0.960194  \n",
       "13     NEGATIVE      0.997803        NEU    0.905119  \n",
       "35     NEGATIVE      0.998339        NEU    0.532910  \n",
       "81     NEGATIVE      0.998651        NEU    0.664834  \n",
       "16     NEGATIVE      0.998712        NEU    0.957365  \n",
       "97     NEGATIVE      0.998769        NEU    0.768268  \n",
       "90     NEGATIVE      0.999526        NEU    0.822135  \n",
       "32     NEGATIVE      0.999625        NEU    0.779943  "
      ]
     },
     "execution_count": 26,
     "metadata": {},
     "output_type": "execute_result"
    }
   ],
   "source": [
    "df.loc[(df['label_bert'] == 'NEU')\n",
    "       & (df['label_distil'] == 'NEGATIVE'), :].sort_values(by=['score_distil'], ascending=True)"
   ]
  },
  {
   "attachments": {},
   "cell_type": "markdown",
   "id": "8185798d",
   "metadata": {},
   "source": [
    "❓ What do you notice about the difference in the results? \n",
    "\n",
    "![image](../deliverables/bert-distil-negative-mismatch.png \"A title is required\")\n",
    "\n",
    "❓ Do the results for the `bertweet-base` model look better, or worse, than the results for the `distilbert-base` model? Why?\n",
    "\n",
    "> The results picked up from `bertweet-base` model look better because the `distilbert-base` is not trained on data that is specific to the source and purpose of twitting. In short, we think that Twitter has its own language which differs from the common use of the English language. Despite both models are trained for the same task, it seems that `distilbert-base` has been trained on data that might have context biased evaluations as noted by the developer of the model. "
   ]
  },
  {
   "cell_type": "markdown",
   "id": "6684f9ae",
   "metadata": {},
   "source": [
    "<hr>\n",
    "\n",
    "### Partner Exercise\n",
    "\n",
    "With your partner, try and determine what the following tweets might be classified as. Try to classify them into the same groups as both of the model pipelines we saw today - and try adding a few of your own sentences/Tweets! "
   ]
  },
  {
   "cell_type": "code",
   "execution_count": 106,
   "id": "dcc55db9",
   "metadata": {},
   "outputs": [],
   "source": [
    "example_difficult_tweets = [\n",
    "    \"Kong vs Godzilla has record for most meth ever consumed in a writer's room\",\n",
    "    \"@ashleevance Battery energy density is the key to electric aircraft. Autonomy for aircraft could have been done a long time ago. Modern airliners are very close to autonomous.\",\n",
    "    \"Tesla's action is not directly reflective of my opinion. Having some Bitcoin, which is simply a less dumb form of liquidity than cash, is adventurous enough for an S&P500 company.\",\n",
    "    \"We could replace people with robots.\",\n",
    "    \"We should replace people with robots.\",\n",
    "    \"We will replace people with robots.\",\n",
    "    \"We will replace people with robots! 🤣\",\n",
    "    # \"Elden Ring is not a copy of Skyrim.\",\n",
    "    # \"Elden Ring is a copy of Skyrim.\",\n",
    "    # \"Austin bats are wonderful.\",\n",
    "    # \"Austin bats are worth watching.\",\n",
    "    # \"Jeff Bezos is better than Elon Musk.\",\n",
    "    \"Snowboarding is fun and risky.\",\n",
    "    \"Snowboarding is fun but risky.\",\n",
    "    \"Snowboarding is fun but dangerous.\",\n",
    "    # \"Why liberal Washington can't quit Twitter\",\n",
    "    # \"Until there is a viable alternative, I will be at Twitter and you will have to pry my fingers from my phone.\",\n",
    "    # \"Humans are simply not built for email.\",\n",
    "]"
   ]
  },
  {
   "cell_type": "markdown",
   "id": "324e3837",
   "metadata": {},
   "source": [
    "The `distilbert-base` model:"
   ]
  },
  {
   "cell_type": "code",
   "execution_count": 107,
   "id": "3fd3d5a9",
   "metadata": {},
   "outputs": [
    {
     "name": "stdout",
     "output_type": "stream",
     "text": [
      "[{'label': 'POSITIVE', 'score': 0.5429078936576843}]\n",
      "Kong vs Godzilla has record for most meth ever consumed in a writer's room\n",
      "\n",
      "[{'label': 'NEGATIVE', 'score': 0.634838342666626}]\n",
      "@ashleevance Battery energy density is the key to electric aircraft. Autonomy for aircraft could have been done a long time ago. Modern airliners are very close to autonomous.\n",
      "\n",
      "[{'label': 'POSITIVE', 'score': 0.9419694542884827}]\n",
      "Tesla's action is not directly reflective of my opinion. Having some Bitcoin, which is simply a less dumb form of liquidity than cash, is adventurous enough for an S&P500 company.\n",
      "\n",
      "[{'label': 'NEGATIVE', 'score': 0.9975510239601135}]\n",
      "We could replace people with robots.\n",
      "\n",
      "[{'label': 'NEGATIVE', 'score': 0.998619794845581}]\n",
      "We should replace people with robots.\n",
      "\n",
      "[{'label': 'NEGATIVE', 'score': 0.987613320350647}]\n",
      "We will replace people with robots.\n",
      "\n",
      "[{'label': 'NEGATIVE', 'score': 0.9685631394386292}]\n",
      "We will replace people with robots! 🤣\n",
      "\n",
      "[{'label': 'POSITIVE', 'score': 0.9997346997261047}]\n",
      "Snowboarding is fun and risky.\n",
      "\n",
      "[{'label': 'POSITIVE', 'score': 0.9906659722328186}]\n",
      "Snowboarding is fun but risky.\n",
      "\n",
      "[{'label': 'POSITIVE', 'score': 0.9861065149307251}]\n",
      "Snowboarding is fun but dangerous.\n",
      "\n"
     ]
    }
   ],
   "source": [
    "for tweet in example_difficult_tweets:\n",
    "    pprint(sentiment_pipeline(tweet))\n",
    "    print(tweet + '\\n')"
   ]
  },
  {
   "cell_type": "markdown",
   "id": "61230295",
   "metadata": {},
   "source": [
    "The `bertweet-base` model:"
   ]
  },
  {
   "cell_type": "code",
   "execution_count": 108,
   "id": "82f2d3e2",
   "metadata": {},
   "outputs": [
    {
     "name": "stdout",
     "output_type": "stream",
     "text": [
      "[{'label': 'NEG', 'score': 0.7213016152381897}]\n",
      "Kong vs Godzilla has record for most meth ever consumed in a writer's room\n",
      "\n",
      "[{'label': 'NEU', 'score': 0.8023841977119446}]\n",
      "@ashleevance Battery energy density is the key to electric aircraft. Autonomy for aircraft could have been done a long time ago. Modern airliners are very close to autonomous.\n",
      "\n",
      "[{'label': 'NEU', 'score': 0.8843539953231812}]\n",
      "Tesla's action is not directly reflective of my opinion. Having some Bitcoin, which is simply a less dumb form of liquidity than cash, is adventurous enough for an S&P500 company.\n",
      "\n",
      "[{'label': 'NEG', 'score': 0.7293974161148071}]\n",
      "We could replace people with robots.\n",
      "\n",
      "[{'label': 'NEG', 'score': 0.6872692704200745}]\n",
      "We should replace people with robots.\n",
      "\n",
      "[{'label': 'NEG', 'score': 0.6957011222839355}]\n",
      "We will replace people with robots.\n",
      "\n",
      "[{'label': 'NEG', 'score': 0.8789107203483582}]\n",
      "We will replace people with robots! 🤣\n",
      "\n",
      "[{'label': 'POS', 'score': 0.9884705543518066}]\n",
      "Snowboarding is fun and risky.\n",
      "\n",
      "[{'label': 'POS', 'score': 0.8678731918334961}]\n",
      "Snowboarding is fun but risky.\n",
      "\n",
      "[{'label': 'NEG', 'score': 0.9306750297546387}]\n",
      "Snowboarding is fun but dangerous.\n",
      "\n"
     ]
    }
   ],
   "source": [
    "for tweet in example_difficult_tweets:\n",
    "    pprint(bertweet_pipeline(tweet))\n",
    "    print(tweet + '\\n')"
   ]
  },
  {
   "attachments": {},
   "cell_type": "markdown",
   "id": "97f2c1c5",
   "metadata": {},
   "source": [
    "❓ How did you do? Did you find any surprising results? \n",
    "\n",
    "The word `but` is one of the most heavy indicators of negative sentiment. Curiously, this was only picked up by the `bertweet-base` model.\n",
    "\n",
    "❓ Are there any instances where the two models gave different predictions for the same tweet?\n",
    "\n",
    "> Definitely, we found different predictions for edge cases such as those that had combinations of neutral to positive to negative connotation. E.g. \"Snowboarding is fun but dangerous.\""
   ]
  }
 ],
 "metadata": {
  "kernelspec": {
   "display_name": "4thbrain",
   "language": "python",
   "name": "python3"
  },
  "language_info": {
   "codemirror_mode": {
    "name": "ipython",
    "version": 3
   },
   "file_extension": ".py",
   "mimetype": "text/x-python",
   "name": "python",
   "nbconvert_exporter": "python",
   "pygments_lexer": "ipython3",
   "version": "3.10.8"
  },
  "vscode": {
   "interpreter": {
    "hash": "33df9591f922c142edbaae89aee4960ab2973cab784946f44b78232519b30245"
   }
  }
 },
 "nbformat": 4,
 "nbformat_minor": 5
}
